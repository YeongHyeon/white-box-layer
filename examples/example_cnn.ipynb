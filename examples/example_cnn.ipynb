{
 "cells": [
  {
   "cell_type": "markdown",
   "id": "c97f8f16",
   "metadata": {},
   "source": [
    "# Simple CNN"
   ]
  },
  {
   "cell_type": "code",
   "execution_count": 1,
   "id": "10f42532",
   "metadata": {},
   "outputs": [],
   "source": [
    "import whiteboxlayer.layers as wbl\n",
    "import tensorflow as tf\n",
    "\n",
    "class Neuralnet(tf.Module):\n",
    "\n",
    "    def __init__(self, **kwargs):\n",
    "        super(Neuralnet, self).__init__()\n",
    "\n",
    "        self.who_am_i = kwargs['who_am_i']\n",
    "        self.dim_h = kwargs['dim_h']\n",
    "        self.dim_w = kwargs['dim_w']\n",
    "        self.dim_c = kwargs['dim_c']\n",
    "        self.num_class = kwargs['num_class']\n",
    "        self.filters = kwargs['filters']\n",
    "\n",
    "        self.layer = wbl.Layers()\n",
    "\n",
    "        self.forward = tf.function(self.__call__)\n",
    "\n",
    "    @tf.function\n",
    "    def __call__(self, x, verbose=False):\n",
    "\n",
    "        logit = self.__nn(x=x, name=self.who_am_i, verbose=verbose)\n",
    "        y_hat = tf.nn.softmax(logit, name=\"y_hat\")\n",
    "\n",
    "        return logit, y_hat\n",
    "\n",
    "    def __nn(self, x, name='neuralnet', verbose=True):\n",
    "\n",
    "        for idx, _ in enumerate(self.filters[:-1]):\n",
    "            if(idx == 0): continue\n",
    "            x = self.layer.conv2d(x=x, stride=1, \\\n",
    "                filter_size=[3, 3, self.filters[idx-1], self.filters[idx]], \\\n",
    "                activation='relu', name='%s-%dconv' %(name, idx), verbose=verbose)\n",
    "            x = self.layer.maxpool(x=x, ksize=2, strides=2, \\\n",
    "                name='%s-%dmp' %(name, idx), verbose=verbose)\n",
    "\n",
    "        x = tf.reshape(x, shape=[x.shape[0], -1], name=\"flat\")\n",
    "        x = self.layer.fully_connected(x=x, c_out=self.filters[-1], \\\n",
    "                activation='relu', name=\"%s-clf0\" %(name), verbose=verbose)\n",
    "        x = self.layer.fully_connected(x=x, c_out=self.num_class, \\\n",
    "                activation=None, name=\"%s-clf1\" %(name), verbose=verbose)\n",
    "\n",
    "        return x\n"
   ]
  },
  {
   "cell_type": "code",
   "execution_count": 2,
   "id": "5e0287eb",
   "metadata": {},
   "outputs": [
    {
     "name": "stdout",
     "output_type": "stream",
     "text": [
      "WARNING:tensorflow:AutoGraph could not transform <bound method Neuralnet.__call__ of <tensorflow.python.eager.function.TfMethodTarget object at 0x141713df0>> and will run it as-is.\n",
      "Cause: mangled names are not yet supported\n",
      "To silence this warning, decorate the function with @tf.autograph.experimental.do_not_convert\n",
      "WARNING: AutoGraph could not transform <bound method Neuralnet.__call__ of <tensorflow.python.eager.function.TfMethodTarget object at 0x141713df0>> and will run it as-is.\n",
      "Cause: mangled names are not yet supported\n",
      "To silence this warning, decorate the function with @tf.autograph.experimental.do_not_convert\n",
      "Conv (CNN-1conv) (1, 28, 28, 1) -> (1, 28, 28, 32)\n",
      "MaxPool (CNN-1mp) (1, 28, 28, 32) -> (1, 14, 14, 32)\n",
      "Conv (CNN-2conv) (1, 14, 14, 32) -> (1, 14, 14, 64)\n",
      "MaxPool (CNN-2mp) (1, 14, 14, 64) -> (1, 7, 7, 64)\n",
      "FC (CNN-clf0) (1, 3136) -> (1, 128)\n",
      "FC (CNN-clf1) (1, 128) -> (1, 10)\n",
      "Conv (CNN-1conv) (1, 28, 28, 1) -> (1, 28, 28, 32)\n",
      "MaxPool (CNN-1mp) (1, 28, 28, 32) -> (1, 14, 14, 32)\n",
      "Conv (CNN-2conv) (1, 14, 14, 32) -> (1, 14, 14, 64)\n",
      "MaxPool (CNN-2mp) (1, 14, 14, 64) -> (1, 7, 7, 64)\n",
      "FC (CNN-clf0) (1, 3136) -> (1, 128)\n",
      "FC (CNN-clf1) (1, 128) -> (1, 10)\n"
     ]
    },
    {
     "data": {
      "text/plain": [
       "(<tf.Tensor: shape=(1, 10), dtype=float32, numpy=\n",
       " array([[-0.45406842, -0.37862462,  0.5745149 , -0.59296376,  0.40461564,\n",
       "          0.27945414,  0.23206142, -0.34217268, -0.26423928, -0.703936  ]],\n",
       "       dtype=float32)>,\n",
       " <tf.Tensor: shape=(1, 10), dtype=float32, numpy=\n",
       " array([[0.06544248, 0.07057072, 0.18304919, 0.05695584, 0.1544477 ,\n",
       "         0.13627762, 0.12996972, 0.07319062, 0.07912277, 0.0509734 ]],\n",
       "       dtype=float32)>)"
      ]
     },
     "execution_count": 2,
     "metadata": {},
     "output_type": "execute_result"
    }
   ],
   "source": [
    "model = Neuralnet(\\\n",
    "    who_am_i=\"CNN\", \\\n",
    "    dim_h=28, dim_w=28, dim_c=1, \\\n",
    "    num_class=10, \\\n",
    "    filters=[1, 32, 64, 128])\n",
    "\n",
    "dummy = tf.zeros((1, model.dim_h, model.dim_w, model.dim_c), dtype=tf.float32)\n",
    "model.forward(x=dummy, verbose=True)"
   ]
  },
  {
   "cell_type": "markdown",
   "id": "199110b5",
   "metadata": {},
   "source": [
    "# Simple CNN with Batch Normalization"
   ]
  },
  {
   "cell_type": "code",
   "execution_count": 3,
   "id": "54718bef",
   "metadata": {},
   "outputs": [],
   "source": [
    "import whiteboxlayer.layers as wbl\n",
    "import tensorflow as tf\n",
    "\n",
    "class Neuralnet(tf.Module):\n",
    "\n",
    "    def __init__(self, **kwargs):\n",
    "        super(Neuralnet, self).__init__()\n",
    "\n",
    "        self.who_am_i = kwargs['who_am_i']\n",
    "        self.dim_h = kwargs['dim_h']\n",
    "        self.dim_w = kwargs['dim_w']\n",
    "        self.dim_c = kwargs['dim_c']\n",
    "        self.num_class = kwargs['num_class']\n",
    "        self.filters = kwargs['filters']\n",
    "\n",
    "        self.layer = wbl.Layers()\n",
    "\n",
    "        self.forward = tf.function(self.__call__)\n",
    "\n",
    "    @tf.function\n",
    "    def __call__(self, x, verbose=False):\n",
    "\n",
    "        logit = self.__nn(x=x, name=self.who_am_i, verbose=verbose)\n",
    "        y_hat = tf.nn.softmax(logit, name=\"y_hat\")\n",
    "\n",
    "        return logit, y_hat\n",
    "\n",
    "    def __nn(self, x, name='neuralnet', verbose=True):\n",
    "\n",
    "        for idx, _ in enumerate(self.filters[:-1]):\n",
    "            if(idx == 0): continue\n",
    "            x = self.layer.conv2d(x=x, stride=1, \\\n",
    "                filter_size=[3, 3, self.filters[idx-1], self.filters[idx]], batch_norm=True, \\\n",
    "                activation='relu', name='%s-%dconv' %(name, idx), verbose=verbose)\n",
    "            x = self.layer.maxpool(x=x, ksize=2, strides=2, \\\n",
    "                name='%s-%dmp' %(name, idx), verbose=verbose)\n",
    "\n",
    "        x = tf.reshape(x, shape=[x.shape[0], -1], name=\"flat\")\n",
    "        x = self.layer.fully_connected(x=x, c_out=self.filters[-1], \\\n",
    "                activation='relu', name=\"%s-clf0\" %(name), verbose=verbose)\n",
    "        x = self.layer.fully_connected(x=x, c_out=self.num_class, \\\n",
    "                activation=None, name=\"%s-clf1\" %(name), verbose=verbose)\n",
    "\n",
    "        return x\n"
   ]
  },
  {
   "cell_type": "code",
   "execution_count": 4,
   "id": "388ca7ec",
   "metadata": {},
   "outputs": [
    {
     "name": "stdout",
     "output_type": "stream",
     "text": [
      "WARNING:tensorflow:AutoGraph could not transform <bound method Neuralnet.__call__ of <tensorflow.python.eager.function.TfMethodTarget object at 0x1418dbe80>> and will run it as-is.\n",
      "Cause: mangled names are not yet supported\n",
      "To silence this warning, decorate the function with @tf.autograph.experimental.do_not_convert\n",
      "WARNING: AutoGraph could not transform <bound method Neuralnet.__call__ of <tensorflow.python.eager.function.TfMethodTarget object at 0x1418dbe80>> and will run it as-is.\n",
      "Cause: mangled names are not yet supported\n",
      "To silence this warning, decorate the function with @tf.autograph.experimental.do_not_convert\n",
      "Conv (CNN-1conv) (1, 28, 28, 1) -> (1, 28, 28, 32)\n",
      "BN (CNN-1conv_bn) (1, 28, 28, 32) -> (1, 28, 28, 32)\n",
      "MaxPool (CNN-1mp) (1, 28, 28, 32) -> (1, 14, 14, 32)\n",
      "Conv (CNN-2conv) (1, 14, 14, 32) -> (1, 14, 14, 64)\n",
      "BN (CNN-2conv_bn) (1, 14, 14, 64) -> (1, 14, 14, 64)\n",
      "MaxPool (CNN-2mp) (1, 14, 14, 64) -> (1, 7, 7, 64)\n",
      "FC (CNN-clf0) (1, 3136) -> (1, 128)\n",
      "FC (CNN-clf1) (1, 128) -> (1, 10)\n",
      "Conv (CNN-1conv) (1, 28, 28, 1) -> (1, 28, 28, 32)\n",
      "BN (CNN-1conv_bn) (1, 28, 28, 32) -> (1, 28, 28, 32)\n",
      "MaxPool (CNN-1mp) (1, 28, 28, 32) -> (1, 14, 14, 32)\n",
      "Conv (CNN-2conv) (1, 14, 14, 32) -> (1, 14, 14, 64)\n",
      "BN (CNN-2conv_bn) (1, 14, 14, 64) -> (1, 14, 14, 64)\n",
      "MaxPool (CNN-2mp) (1, 14, 14, 64) -> (1, 7, 7, 64)\n",
      "FC (CNN-clf0) (1, 3136) -> (1, 128)\n",
      "FC (CNN-clf1) (1, 128) -> (1, 10)\n"
     ]
    },
    {
     "data": {
      "text/plain": [
       "(<tf.Tensor: shape=(1, 10), dtype=float32, numpy=\n",
       " array([[ 1.0824637 , -1.5743582 , -0.14811067, -0.00306413,  0.45743108,\n",
       "         -1.5519255 , -0.81184185, -2.2627559 ,  0.3381427 ,  0.456598  ]],\n",
       "       dtype=float32)>,\n",
       " <tf.Tensor: shape=(1, 10), dtype=float32, numpy=\n",
       " array([[0.28550577, 0.02003419, 0.0834033 , 0.096422  , 0.15281524,\n",
       "         0.02048868, 0.04294656, 0.01006478, 0.13563144, 0.152688  ]],\n",
       "       dtype=float32)>)"
      ]
     },
     "execution_count": 4,
     "metadata": {},
     "output_type": "execute_result"
    }
   ],
   "source": [
    "model = Neuralnet(\\\n",
    "    who_am_i=\"CNN\", \\\n",
    "    dim_h=28, dim_w=28, dim_c=1, \\\n",
    "    num_class=10, \\\n",
    "    filters=[1, 32, 64, 128])\n",
    "\n",
    "dummy = tf.zeros((1, model.dim_h, model.dim_w, model.dim_c), dtype=tf.float32)\n",
    "model.forward(x=dummy, verbose=True)"
   ]
  },
  {
   "cell_type": "code",
   "execution_count": null,
   "id": "5aeb0ee9",
   "metadata": {},
   "outputs": [],
   "source": []
  }
 ],
 "metadata": {
  "kernelspec": {
   "display_name": "Python 3",
   "language": "python",
   "name": "python3"
  },
  "language_info": {
   "codemirror_mode": {
    "name": "ipython",
    "version": 3
   },
   "file_extension": ".py",
   "mimetype": "text/x-python",
   "name": "python",
   "nbconvert_exporter": "python",
   "pygments_lexer": "ipython3",
   "version": "3.8.2"
  }
 },
 "nbformat": 4,
 "nbformat_minor": 5
}
